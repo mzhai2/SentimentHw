{
 "cells": [
  {
   "cell_type": "markdown",
   "metadata": {},
   "source": [
    "# gensim doc2vec & IMDB sentiment dataset"
   ]
  },
  {
   "cell_type": "markdown",
   "metadata": {},
   "source": [
    "TODO: section on introduction & motivation\n",
    "\n",
    "TODO: prerequisites + dependencies (statsmodels, patsy, ?)"
   ]
  },
  {
   "cell_type": "markdown",
   "metadata": {},
   "source": [
    "## Load corpus"
   ]
  },
  {
   "cell_type": "markdown",
   "metadata": {},
   "source": [
    "Fetch and prep exactly as in Mikolov's go.sh shell script. (Note this cell tests for existence of required files, so steps won't repeat once the final summary file (`aclImdb/alldata-id.txt`) is available alongside this notebook.)"
   ]
  },
  {
   "cell_type": "code",
   "execution_count": 1,
   "metadata": {
    "collapsed": false
   },
   "outputs": [],
   "source": [
    "%%bash\n",
    "# adapted from Mikolov's example go.sh script: \n",
    "if [ ! -f \"aclImdb/alldata-id.txt\" ]\n",
    "then\n",
    "    if [ ! -d \"aclImdb\" ] \n",
    "    then\n",
    "        if [ ! -f \"aclImdb_v1.tar.gz\" ]\n",
    "        then\n",
    "          wget --quiet http://ai.stanford.edu/~amaas/data/sentiment/aclImdb_v1.tar.gz\n",
    "        fi\n",
    "      tar xf aclImdb_v1.tar.gz\n",
    "    fi\n",
    "    \n",
    "  #this function will convert text to lowercase and will disconnect punctuation and special symbols from words\n",
    "  function normalize_text {\n",
    "    awk '{print tolower($0);}' < $1 | sed -e 's/\\./ \\. /g' -e 's/<br \\/>/ /g' -e 's/\"/ \" /g' \\\n",
    "    -e 's/,/ , /g' -e 's/(/ ( /g' -e 's/)/ ) /g' -e 's/\\!/ \\! /g' -e 's/\\?/ \\? /g' \\\n",
    "    -e 's/\\;/ \\; /g' -e 's/\\:/ \\: /g' > $1-norm\n",
    "  }\n",
    "\n",
    "  export LC_ALL=C\n",
    "  for j in train/pos train/neg test/pos test/neg train/unsup; do\n",
    "    rm temp\n",
    "    for i in `ls aclImdb/$j`; do cat aclImdb/$j/$i >> temp; awk 'BEGIN{print;}' >> temp; done\n",
    "    normalize_text temp\n",
    "    mv temp-norm aclImdb/$j/norm.txt\n",
    "  done\n",
    "  mv aclImdb/train/pos/norm.txt aclImdb/train-pos.txt\n",
    "  mv aclImdb/train/neg/norm.txt aclImdb/train-neg.txt\n",
    "  mv aclImdb/test/pos/norm.txt aclImdb/test-pos.txt\n",
    "  mv aclImdb/test/neg/norm.txt aclImdb/test-neg.txt\n",
    "  mv aclImdb/train/unsup/norm.txt aclImdb/train-unsup.txt\n",
    "\n",
    "  cat aclImdb/train-pos.txt aclImdb/train-neg.txt aclImdb/test-pos.txt aclImdb/test-neg.txt aclImdb/train-unsup.txt > aclImdb/alldata.txt\n",
    "  awk 'BEGIN{a=0;}{print \"_*\" a \" \" $0; a++;}' < aclImdb/alldata.txt > aclImdb/alldata-id.txt\n",
    "fi"
   ]
  },
  {
   "cell_type": "code",
   "execution_count": 2,
   "metadata": {
    "collapsed": false
   },
   "outputs": [],
   "source": [
    "import os.path\n",
    "assert os.path.isfile(\"aclImdb/alldata-id.txt\"), \"alldata-id.txt unavailable\""
   ]
  },
  {
   "cell_type": "markdown",
   "metadata": {},
   "source": [
    "The data is small enough to be read into memory. "
   ]
  },
  {
   "cell_type": "code",
   "execution_count": 3,
   "metadata": {
    "collapsed": false
   },
   "outputs": [
    {
     "name": "stdout",
     "output_type": "stream",
     "text": [
      "322352 docs: 25000 train-sentiment, 25000 test-sentiment 156060 hw_train-sentiment 66292 predict-sentiment\n"
     ]
    }
   ],
   "source": [
    "import gensim\n",
    "from gensim.models.doc2vec import TaggedDocument\n",
    "from collections import namedtuple\n",
    "\n",
    "SentimentDocument = namedtuple('SentimentDocument', 'words tags split sentiment')\n",
    "\n",
    "alldocs = []  # will hold all docs in original order\n",
    "with open('aclImdb/alldata-id.txt') as alldata:\n",
    "    for line_no, line in enumerate(alldata):\n",
    "        tokens = gensim.utils.to_unicode(line).split()\n",
    "        words = tokens[1:]\n",
    "        tags = [line_no] # `tags = [tokens[0]]` would also work at extra memory cost\n",
    "        split = ['train','test','extra','extra'][line_no//25000]  # 25k train, 25k test, 25k extra\n",
    "        sentiment = [1.0, 0.0, 1.0, 0.0, None, None, None, None][line_no//12500] # [12.5K pos, 12.5K neg]*2 then unknown\n",
    "        alldocs.append(SentimentDocument(words, tags, split, sentiment))\n",
    "\n",
    "with open('data/train.tsv') as train:\n",
    "    for line_no, line in enumerate(train, start=line_no+1):\n",
    "        tokens = line.split('\\t')\n",
    "        words = tokens[2]\n",
    "        tags = [line_no]\n",
    "        if int(tokens[3]) >= 3:\n",
    "            sentiment = 1.0\n",
    "        else:\n",
    "            sentiment = 0.0\n",
    "        split = 'hw_train'\n",
    "        alldocs.append(SentimentDocument(words,tags,split,sentiment))\n",
    "        \n",
    "with open('data/test.tsv') as predict:\n",
    "    for line_no, line in enumerate(predict, start=line_no+1):\n",
    "        tokens = line.split('\\t')\n",
    "        words = tokens[2]\n",
    "        tags = [line_no]\n",
    "        split = 'predict'\n",
    "        sentiment = 0.5\n",
    "        alldocs.append(SentimentDocument(words,tags,split,sentiment))\n",
    "        \n",
    "train_docs = [doc for doc in alldocs if doc.split == 'train']\n",
    "test_docs = [doc for doc in alldocs if doc.split == 'test']\n",
    "hw_train_docs = [doc for doc in alldocs if doc.split == 'hw_train']\n",
    "predict_docs = [doc for doc in alldocs if doc.split == 'predict']\n",
    "\n",
    "doc_list = alldocs[:]  # for reshuffling per pass\n",
    "\n",
    "print('%d docs: %d train-sentiment, %d test-sentiment %d hw_train-sentiment %d predict-sentiment' % (len(doc_list), len(train_docs), len(test_docs), len(hw_train_docs), len(predict_docs)))"
   ]
  },
  {
   "cell_type": "markdown",
   "metadata": {},
   "source": [
    "## Set-up Doc2Vec Training & Evaluation Models"
   ]
  },
  {
   "cell_type": "markdown",
   "metadata": {},
   "source": [
    "Approximating experiment of Le & Mikolov [\"Distributed Representations of Sentences and Documents\"](http://cs.stanford.edu/~quocle/paragraph_vector.pdf), also with guidance from Mikolov's [example go.sh](https://groups.google.com/d/msg/word2vec-toolkit/Q49FIrNOQRo/J6KG8mUj45sJ):\n",
    "\n",
    "`./word2vec -train ../alldata-id.txt -output vectors.txt -cbow 0 -size 100 -window 10 -negative 5 -hs 0 -sample 1e-4 -threads 40 -binary 0 -iter 20 -min-count 1 -sentence-vectors 1`\n",
    "\n",
    "Parameter choices below vary:\n",
    "\n",
    "* 100-dimensional vectors, as the 400d vectors of the paper don't seem to offer much benefit on this task\n",
    "* similarly, frequent word subsampling seems to decrease sentiment-prediction accuracy, so it's left out\n",
    "* `cbow=0` means skip-gram which is equivalent to the paper's 'PV-DBOW' mode, matched in gensim with `dm=0`\n",
    "* added to that DBOW model are two DM models, one which averages context vectors (`dm_mean`) and one which concatenates them (`dm_concat`, resulting in a much larger, slower, more data-hungry model)\n",
    "* a `min_count=2` saves quite a bit of model memory, discarding only words that appear in a single doc (and are thus no more expressive than the unique-to-each doc vectors themselves)"
   ]
  },
  {
   "cell_type": "code",
   "execution_count": 4,
   "metadata": {
    "collapsed": false
   },
   "outputs": [
    {
     "name": "stdout",
     "output_type": "stream",
     "text": [
      "Doc2Vec(dm/c,d100,n5,w5,mc2,t8)\n",
      "Doc2Vec(dbow,d100,n5,mc2,t8)\n",
      "Doc2Vec(dm/m,d100,n5,w10,mc2,t8)\n"
     ]
    }
   ],
   "source": [
    "from gensim.models import Doc2Vec\n",
    "import gensim.models.doc2vec\n",
    "from collections import OrderedDict\n",
    "import multiprocessing\n",
    "\n",
    "cores = multiprocessing.cpu_count()\n",
    "assert gensim.models.doc2vec.FAST_VERSION > -1, \"this will be painfully slow otherwise\"\n",
    "\n",
    "simple_models = [\n",
    "    # PV-DM w/concatenation - window=5 (both sides) approximates paper's 10-word total window size\n",
    "    Doc2Vec(dm=1, dm_concat=1, size=100, window=5, negative=5, hs=0, min_count=2, workers=cores),\n",
    "    # PV-DBOW \n",
    "    Doc2Vec(dm=0, size=100, negative=5, hs=0, min_count=2, workers=cores),\n",
    "    # PV-DM w/average\n",
    "    Doc2Vec(dm=1, dm_mean=1, size=100, window=10, negative=5, hs=0, min_count=2, workers=cores),\n",
    "]\n",
    "\n",
    "# speed setup by sharing results of 1st model's vocabulary scan\n",
    "simple_models[0].build_vocab(alldocs)  # PV-DM/concat requires one special NULL word so it serves as template\n",
    "print(simple_models[0])\n",
    "for model in simple_models[1:]:\n",
    "    model.reset_from(simple_models[0])\n",
    "    print(model)\n",
    "\n",
    "models_by_name = OrderedDict((str(model), model) for model in simple_models)"
   ]
  },
  {
   "cell_type": "markdown",
   "metadata": {},
   "source": [
    "Following the paper, we also evaluate models in pairs. These wrappers return the concatenation of the vectors from each model. (Only the singular models are trained.)"
   ]
  },
  {
   "cell_type": "code",
   "execution_count": 5,
   "metadata": {
    "collapsed": false
   },
   "outputs": [],
   "source": [
    "# from gensim.test.test_doc2vec import ConcatenatedDoc2Vec\n",
    "# models_by_name['dbow+dmm'] = ConcatenatedDoc2Vec([simple_models[1], simple_models[2]])\n",
    "# models_by_name['dbow+dmc'] = ConcatenatedDoc2Vec([simple_models[1], simple_models[0]])"
   ]
  },
  {
   "cell_type": "markdown",
   "metadata": {},
   "source": [
    "## Predictive Evaluation Methods"
   ]
  },
  {
   "cell_type": "markdown",
   "metadata": {},
   "source": [
    "Helper methods for evaluating error rate."
   ]
  },
  {
   "cell_type": "code",
   "execution_count": 6,
   "metadata": {
    "collapsed": false
   },
   "outputs": [],
   "source": [
    "import numpy as np\n",
    "import statsmodels.api as sm\n",
    "from random import sample\n",
    "\n",
    "# for timing\n",
    "from contextlib import contextmanager\n",
    "from timeit import default_timer\n",
    "import time \n",
    "\n",
    "@contextmanager\n",
    "def elapsed_timer():\n",
    "    start = default_timer()\n",
    "    elapser = lambda: default_timer() - start\n",
    "    yield lambda: elapser()\n",
    "    end = default_timer()\n",
    "    elapser = lambda: end-start\n",
    "    \n",
    "def logistic_predictor_from_data(train_targets, train_regressors):\n",
    "    logit = sm.Logit(train_targets, train_regressors)\n",
    "    predictor = logit.fit(disp=0)\n",
    "    #print(predictor.summary())\n",
    "    return predictor\n",
    "\n",
    "def error_rate_for_model(test_model, train_set, test_set, hw_train_set, predict_set, infer=False, infer_steps=3, infer_alpha=0.1, infer_subsample=0.1):\n",
    "    \"\"\"Report error rate on test_doc sentiments, using supplied model and train_docs\"\"\"\n",
    "\n",
    "    train_targets, train_regressors = zip(*[(doc.sentiment, test_model.docvecs[doc.tags[0]]) for doc in train_set])\n",
    "    hw_train_targets, hw_train_regressors = zip(*[(doc.sentiment, test_model.docvecs[doc.tags[0]]) for doc in hw_train_set])\n",
    "\n",
    "    train_regressors_add = sm.add_constant(train_regressors)\n",
    "    predictor = logistic_predictor_from_data(train_targets, train_regressors_add)\n",
    "\n",
    "    test_data = test_set\n",
    "    predict_data = predict_set\n",
    "    predict_regressors = []\n",
    "    if infer:\n",
    "        test_regressors = [test_model.infer_vector(doc.words, steps=infer_steps, alpha=infer_alpha) for doc in test_data]\n",
    "        predict_regressors = [test_model.infer_vector(doc.words, steps=infer_steps, alpha=infer_alpha) for doc in predict_data]\n",
    "    else:\n",
    "        test_regressors = [test_model.docvecs[doc.tags[0]] for doc in test_docs]\n",
    "    test_regressors = sm.add_constant(test_regressors)\n",
    "    \n",
    "    # predict & evaluate\n",
    "    test_predictions = predictor.predict(test_regressors)\n",
    "    corrects = sum(np.rint(test_predictions) == [doc.sentiment for doc in test_data])\n",
    "    errors = len(test_predictions) - corrects\n",
    "    error_rate = float(errors) / len(test_predictions)\n",
    "    return (error_rate, errors, len(test_predictions), predictor, hw_train_regressors, predict_regressors)\n"
   ]
  },
  {
   "cell_type": "markdown",
   "metadata": {},
   "source": [
    "## Bulk Training"
   ]
  },
  {
   "cell_type": "markdown",
   "metadata": {},
   "source": [
    "Using explicit multiple-pass, alpha-reduction approach as sketched in [gensim doc2vec blog post](http://radimrehurek.com/2014/12/doc2vec-tutorial/) – with added shuffling of corpus on each pass.\n",
    "\n",
    "Note that vector training is occurring on *all* documents of the dataset, which includes all TRAIN/TEST/DEV docs.\n",
    "\n",
    "Evaluation of each model's sentiment-predictive power is repeated after each pass, as an error rate (lower is better), to see the rates-of-relative-improvement. The base numbers reuse the TRAIN and TEST vectors stored in the models for the logistic regression, while the _inferred_ results use newly-inferred TEST vectors. \n",
    "\n",
    "(On a 4-core 2.6Ghz Intel Core i7, these 20 passes training and evaluating 3 main models takes about an hour.)"
   ]
  },
  {
   "cell_type": "code",
   "execution_count": 7,
   "metadata": {
    "collapsed": false
   },
   "outputs": [],
   "source": [
    "from collections import defaultdict\n",
    "best_error = defaultdict(lambda :1.0)  # to selectively-print only best errors achieved"
   ]
  },
  {
   "cell_type": "code",
   "execution_count": 8,
   "metadata": {
    "collapsed": false
   },
   "outputs": [
    {
     "name": "stdout",
     "output_type": "stream",
     "text": [
      "dm_c_inferred\n",
      "dbow_inferred\n",
      "dm_m_inferred\n"
     ]
    }
   ],
   "source": [
    "for name, train_model in models_by_name.items():\n",
    "    print name.split(',')[0].split('(')[1].replace('/','_') + '_inferred'"
   ]
  },
  {
   "cell_type": "code",
   "execution_count": 9,
   "metadata": {
    "collapsed": false
   },
   "outputs": [
    {
     "name": "stdout",
     "output_type": "stream",
     "text": [
      "START 2015-11-29 12:59:57.023392\n",
      "*0.418360 : 1 passes : Doc2Vec(dm/c,d100,n5,w5,mc2,t8) 70.9s 1.8s\n",
      "*0.385680 : 1 passes : Doc2Vec(dm/c,d100,n5,w5,mc2,t8)_inferred 70.9s 138.8s\n",
      "*0.228360 : 1 passes : Doc2Vec(dbow,d100,n5,mc2,t8) 25.1s 1.5s\n",
      "*0.205720 : 1 passes : Doc2Vec(dbow,d100,n5,mc2,t8)_inferred 25.1s 48.2s\n",
      "*0.277080 : 1 passes : Doc2Vec(dm/m,d100,n5,w10,mc2,t8) 35.5s 1.9s\n",
      "*0.220880 : 1 passes : Doc2Vec(dm/m,d100,n5,w10,mc2,t8)_inferred 35.5s 67.5s\n",
      "completed pass 1 at alpha 0.025000\n",
      "*0.361240 : 2 passes : Doc2Vec(dm/c,d100,n5,w5,mc2,t8) 66.5s 1.4s\n",
      "*0.144880 : 2 passes : Doc2Vec(dbow,d100,n5,mc2,t8) 24.9s 1.9s\n",
      "*0.225880 : 2 passes : Doc2Vec(dm/m,d100,n5,w10,mc2,t8) 35.4s 1.4s\n",
      "completed pass 2 at alpha 0.023800\n",
      "*0.325120 : 3 passes : Doc2Vec(dm/c,d100,n5,w5,mc2,t8) 63.9s 1.8s\n",
      "*0.127040 : 3 passes : Doc2Vec(dbow,d100,n5,mc2,t8) 24.9s 1.9s\n",
      "*0.202280 : 3 passes : Doc2Vec(dm/m,d100,n5,w10,mc2,t8) 35.4s 1.4s\n",
      "completed pass 3 at alpha 0.022600\n",
      "*0.303200 : 4 passes : Doc2Vec(dm/c,d100,n5,w5,mc2,t8) 63.6s 1.8s\n",
      "*0.116400 : 4 passes : Doc2Vec(dbow,d100,n5,mc2,t8) 24.9s 1.9s\n",
      "*0.191440 : 4 passes : Doc2Vec(dm/m,d100,n5,w10,mc2,t8) 35.1s 1.4s\n",
      "completed pass 4 at alpha 0.021400\n",
      "*0.288120 : 5 passes : Doc2Vec(dm/c,d100,n5,w5,mc2,t8) 62.5s 1.8s\n",
      "*0.318840 : 5 passes : Doc2Vec(dm/c,d100,n5,w5,mc2,t8)_inferred 62.5s 130.9s\n",
      "*0.110080 : 5 passes : Doc2Vec(dbow,d100,n5,mc2,t8) 24.3s 1.9s\n",
      "*0.115720 : 5 passes : Doc2Vec(dbow,d100,n5,mc2,t8)_inferred 24.3s 46.9s\n",
      "*0.183240 : 5 passes : Doc2Vec(dm/m,d100,n5,w10,mc2,t8) 34.7s 1.9s\n",
      "*0.213800 : 5 passes : Doc2Vec(dm/m,d100,n5,w10,mc2,t8)_inferred 34.7s 65.5s\n",
      "completed pass 5 at alpha 0.020200\n",
      "*0.269680 : 6 passes : Doc2Vec(dm/c,d100,n5,w5,mc2,t8) 58.0s 1.9s\n",
      "*0.107720 : 6 passes : Doc2Vec(dbow,d100,n5,mc2,t8) 24.3s 1.8s\n",
      "*0.179480 : 6 passes : Doc2Vec(dm/m,d100,n5,w10,mc2,t8) 34.6s 1.4s\n",
      "completed pass 6 at alpha 0.019000\n",
      "*0.258280 : 7 passes : Doc2Vec(dm/c,d100,n5,w5,mc2,t8) 56.9s 1.8s\n",
      "*0.105320 : 7 passes : Doc2Vec(dbow,d100,n5,mc2,t8) 24.2s 1.8s\n",
      "*0.172960 : 7 passes : Doc2Vec(dm/m,d100,n5,w10,mc2,t8) 34.6s 1.8s\n",
      "completed pass 7 at alpha 0.017800\n",
      "*0.247560 : 8 passes : Doc2Vec(dm/c,d100,n5,w5,mc2,t8) 56.4s 1.4s\n",
      "*0.104960 : 8 passes : Doc2Vec(dbow,d100,n5,mc2,t8) 24.3s 1.8s\n",
      "*0.171280 : 8 passes : Doc2Vec(dm/m,d100,n5,w10,mc2,t8) 34.5s 1.8s\n",
      "completed pass 8 at alpha 0.016600\n",
      "*0.242080 : 9 passes : Doc2Vec(dm/c,d100,n5,w5,mc2,t8) 55.9s 1.4s\n",
      "*0.102960 : 9 passes : Doc2Vec(dbow,d100,n5,mc2,t8) 24.3s 1.8s\n",
      "*0.169360 : 9 passes : Doc2Vec(dm/m,d100,n5,w10,mc2,t8) 34.5s 1.4s\n",
      "completed pass 9 at alpha 0.015400\n",
      "*0.236000 : 10 passes : Doc2Vec(dm/c,d100,n5,w5,mc2,t8) 55.6s 1.7s\n",
      "*0.260520 : 10 passes : Doc2Vec(dm/c,d100,n5,w5,mc2,t8)_inferred 55.6s 127.0s\n",
      "*0.102160 : 10 passes : Doc2Vec(dbow,d100,n5,mc2,t8) 24.3s 1.9s\n",
      "*0.110680 : 10 passes : Doc2Vec(dbow,d100,n5,mc2,t8)_inferred 24.3s 46.0s\n",
      "*0.167880 : 10 passes : Doc2Vec(dm/m,d100,n5,w10,mc2,t8) 34.6s 1.9s\n",
      "*0.207680 : 10 passes : Doc2Vec(dm/m,d100,n5,w10,mc2,t8)_inferred 34.6s 65.0s\n",
      "completed pass 10 at alpha 0.014200\n",
      "*0.231160 : 11 passes : Doc2Vec(dm/c,d100,n5,w5,mc2,t8) 54.5s 1.8s\n",
      " 0.102360 : 11 passes : Doc2Vec(dbow,d100,n5,mc2,t8) 24.3s 1.8s\n",
      "*0.167040 : 11 passes : Doc2Vec(dm/m,d100,n5,w10,mc2,t8) 34.7s 1.8s\n",
      "completed pass 11 at alpha 0.013000\n",
      "*0.229520 : 12 passes : Doc2Vec(dm/c,d100,n5,w5,mc2,t8) 54.7s 1.3s\n",
      "*0.102120 : 12 passes : Doc2Vec(dbow,d100,n5,mc2,t8) 24.2s 1.8s\n",
      "*0.165520 : 12 passes : Doc2Vec(dm/m,d100,n5,w10,mc2,t8) 34.7s 1.8s\n",
      "completed pass 12 at alpha 0.011800\n",
      "*0.226760 : 13 passes : Doc2Vec(dm/c,d100,n5,w5,mc2,t8) 54.7s 1.3s\n",
      "*0.101240 : 13 passes : Doc2Vec(dbow,d100,n5,mc2,t8) 24.2s 1.8s\n",
      "*0.164480 : 13 passes : Doc2Vec(dm/m,d100,n5,w10,mc2,t8) 34.6s 1.4s\n",
      "completed pass 13 at alpha 0.010600\n",
      "*0.225160 : 14 passes : Doc2Vec(dm/c,d100,n5,w5,mc2,t8) 54.1s 1.7s\n",
      "*0.101120 : 14 passes : Doc2Vec(dbow,d100,n5,mc2,t8) 24.3s 1.8s\n",
      "*0.163760 : 14 passes : Doc2Vec(dm/m,d100,n5,w10,mc2,t8) 34.5s 1.4s\n",
      "completed pass 14 at alpha 0.009400\n",
      "*0.223440 : 15 passes : Doc2Vec(dm/c,d100,n5,w5,mc2,t8) 52.7s 1.8s\n",
      "*0.243840 : 15 passes : Doc2Vec(dm/c,d100,n5,w5,mc2,t8)_inferred 52.7s 125.5s\n",
      " 0.102560 : 15 passes : Doc2Vec(dbow,d100,n5,mc2,t8) 24.3s 1.5s\n",
      "*0.106760 : 15 passes : Doc2Vec(dbow,d100,n5,mc2,t8)_inferred 24.3s 46.5s\n",
      "*0.163040 : 15 passes : Doc2Vec(dm/m,d100,n5,w10,mc2,t8) 34.5s 1.9s\n",
      "*0.193680 : 15 passes : Doc2Vec(dm/m,d100,n5,w10,mc2,t8)_inferred 34.5s 65.5s\n",
      "completed pass 15 at alpha 0.008200\n",
      "*0.222040 : 16 passes : Doc2Vec(dm/c,d100,n5,w5,mc2,t8) 53.0s 1.4s\n",
      " 0.102600 : 16 passes : Doc2Vec(dbow,d100,n5,mc2,t8) 24.2s 1.8s\n",
      "*0.162960 : 16 passes : Doc2Vec(dm/m,d100,n5,w10,mc2,t8) 34.6s 1.4s\n",
      "completed pass 16 at alpha 0.007000\n",
      "*0.220240 : 17 passes : Doc2Vec(dm/c,d100,n5,w5,mc2,t8) 53.4s 1.8s\n",
      " 0.102480 : 17 passes : Doc2Vec(dbow,d100,n5,mc2,t8) 24.3s 1.8s\n",
      "*0.162160 : 17 passes : Doc2Vec(dm/m,d100,n5,w10,mc2,t8) 34.5s 1.4s\n",
      "completed pass 17 at alpha 0.005800\n",
      " 0.220520 : 18 passes : Doc2Vec(dm/c,d100,n5,w5,mc2,t8) 52.1s 1.8s\n",
      " 0.102920 : 18 passes : Doc2Vec(dbow,d100,n5,mc2,t8) 24.2s 1.8s\n",
      " 0.162240 : 18 passes : Doc2Vec(dm/m,d100,n5,w10,mc2,t8) 34.5s 1.8s\n",
      "completed pass 18 at alpha 0.004600\n",
      "*0.219360 : 19 passes : Doc2Vec(dm/c,d100,n5,w5,mc2,t8) 52.6s 1.3s\n",
      " 0.102560 : 19 passes : Doc2Vec(dbow,d100,n5,mc2,t8) 24.3s 1.8s\n",
      " 0.162400 : 19 passes : Doc2Vec(dm/m,d100,n5,w10,mc2,t8) 34.4s 1.4s\n",
      "completed pass 19 at alpha 0.003400\n",
      "*0.219040 : 20 passes : Doc2Vec(dm/c,d100,n5,w5,mc2,t8) 52.5s 1.7s\n",
      "*0.240640 : 20 passes : Doc2Vec(dm/c,d100,n5,w5,mc2,t8)_inferred 52.5s 124.7s\n",
      " 0.102680 : 20 passes : Doc2Vec(dbow,d100,n5,mc2,t8) 24.2s 1.9s\n",
      " 0.107240 : 20 passes : Doc2Vec(dbow,d100,n5,mc2,t8)_inferred 24.2s 46.0s\n",
      " 0.162200 : 20 passes : Doc2Vec(dm/m,d100,n5,w10,mc2,t8) 34.5s 1.8s\n",
      "*0.193560 : 20 passes : Doc2Vec(dm/m,d100,n5,w10,mc2,t8)_inferred 34.5s 64.9s\n",
      "completed pass 20 at alpha 0.002200\n",
      "END 2015-11-29 14:01:09.565053\n"
     ]
    }
   ],
   "source": [
    "from random import shuffle\n",
    "import datetime\n",
    "import cPickle as pickle\n",
    "alpha, min_alpha, passes = (0.025, 0.001, 20)\n",
    "alpha_delta = (alpha - min_alpha) / passes\n",
    "\n",
    "print(\"START %s\" % datetime.datetime.now())\n",
    "\n",
    "for epoch in range(passes):\n",
    "    shuffle(doc_list)  # shuffling gets best results\n",
    "    \n",
    "    for name, train_model in models_by_name.items():\n",
    "        # train\n",
    "        duration = 'na'\n",
    "        train_model.alpha, train_model.min_alpha = alpha, alpha\n",
    "        with elapsed_timer() as elapsed:\n",
    "            train_model.train(doc_list)\n",
    "            duration = '%.1f' % elapsed()\n",
    "            \n",
    "        # evaluate\n",
    "        eval_duration = ''\n",
    "        with elapsed_timer() as eval_elapsed:\n",
    "            err, err_count, test_count, predictor, hw_train_regressors, predict_regressors = error_rate_for_model(train_model, train_docs, test_docs, hw_train_docs, predict_docs)\n",
    "        eval_duration = '%.1f' % eval_elapsed()\n",
    "        best_indicator = ' '\n",
    "        if err <= best_error[name]:\n",
    "            best_error[name] = err\n",
    "            best_indicator = '*' \n",
    "            #with open('./data/' + name.split(',')[0].split('(')[1].replace('/','_') + '.pickle', 'wb') as f:\n",
    "            #    pickle.dump([hw_train_regressors,predict_regressors],f,protocol=-1)\n",
    "        print(\"%s%f : %i passes : %s %ss %ss\" % (best_indicator, err, epoch + 1, name, duration, eval_duration))\n",
    "\n",
    "        if ((epoch + 1) % 5) == 0 or epoch == 0:\n",
    "            eval_duration = ''\n",
    "            with elapsed_timer() as eval_elapsed:\n",
    "                infer_err, err_count, test_count, predictor, hw_train_regressors, predict_regressors = error_rate_for_model(train_model, train_docs, test_docs, hw_train_docs, predict_docs, infer=True)\n",
    "            eval_duration = '%.1f' % eval_elapsed()\n",
    "            best_indicator = ' '\n",
    "            if infer_err < best_error[name + '_inferred']:\n",
    "                best_error[name + '_inferred'] = infer_err\n",
    "                best_indicator = '*'\n",
    "                with open('./data/' + name.split(',')[0].split('(')[1].replace('/','_') + '_inferred.pickle', 'wb') as f:\n",
    "                    pickle.dump([hw_train_regressors,predict_regressors],f,protocol=-1)\n",
    "            print(\"%s%f : %i passes : %s %ss %ss\" % (best_indicator, infer_err, epoch + 1, name + '_inferred', duration, eval_duration))\n",
    "\n",
    "    print('completed pass %i at alpha %f' % (epoch + 1, alpha))\n",
    "    alpha -= alpha_delta\n",
    "    \n",
    "print(\"END %s\" % str(datetime.datetime.now()))"
   ]
  },
  {
   "cell_type": "markdown",
   "metadata": {},
   "source": [
    "## Achieved Sentiment-Prediction Accuracy"
   ]
  },
  {
   "cell_type": "code",
   "execution_count": 10,
   "metadata": {
    "collapsed": false
   },
   "outputs": [
    {
     "name": "stdout",
     "output_type": "stream",
     "text": [
      "0.101120 Doc2Vec(dbow,d100,n5,mc2,t8)\n",
      "0.106760 Doc2Vec(dbow,d100,n5,mc2,t8)_inferred\n",
      "0.162160 Doc2Vec(dm/m,d100,n5,w10,mc2,t8)\n",
      "0.193560 Doc2Vec(dm/m,d100,n5,w10,mc2,t8)_inferred\n",
      "0.219040 Doc2Vec(dm/c,d100,n5,w5,mc2,t8)\n",
      "0.240640 Doc2Vec(dm/c,d100,n5,w5,mc2,t8)_inferred\n"
     ]
    }
   ],
   "source": [
    "# print best error rates achieved\n",
    "for rate, name in sorted((rate, name) for name, rate in best_error.items()):\n",
    "    print(\"%f %s\" % (rate, name))"
   ]
  },
  {
   "cell_type": "markdown",
   "metadata": {},
   "source": [
    "In my testing, unlike the paper's report, DBOW performs best. Concatenating vectors from different models only offers a small predictive improvement. The best results I've seen are still just under 10% error rate, still a ways from the paper's 7.42%.\n"
   ]
  },
  {
   "cell_type": "markdown",
   "metadata": {},
   "source": [
    "## Examining Results"
   ]
  },
  {
   "cell_type": "markdown",
   "metadata": {},
   "source": [
    "### Are inferred vectors close to the precalculated ones?"
   ]
  },
  {
   "cell_type": "code",
   "execution_count": 11,
   "metadata": {
    "collapsed": false
   },
   "outputs": [
    {
     "name": "stdout",
     "output_type": "stream",
     "text": [
      "for doc 321598...\n",
      "Doc2Vec(dm/c,d100,n5,w5,mc2,t8):\n",
      " [(321598, 0.8417339324951172), (252557, 0.8317505121231079), (285331, 0.8210669755935669)]\n",
      "Doc2Vec(dbow,d100,n5,mc2,t8):\n",
      " [(285847, 0.895341157913208), (276067, 0.8836439251899719), (285845, 0.875251054763794)]\n",
      "Doc2Vec(dm/m,d100,n5,w10,mc2,t8):\n",
      " [(265732, 0.7333773374557495), (280893, 0.7286895513534546), (257657, 0.721503734588623)]\n"
     ]
    }
   ],
   "source": [
    "doc_id = np.random.randint(simple_models[0].docvecs.count)  # pick random doc; re-run cell for more examples\n",
    "print('for doc %d...' % doc_id)\n",
    "for model in simple_models:\n",
    "    inferred_docvec = model.infer_vector(alldocs[doc_id].words)\n",
    "    print('%s:\\n %s' % (model, model.docvecs.most_similar([inferred_docvec], topn=3)))"
   ]
  },
  {
   "cell_type": "markdown",
   "metadata": {},
   "source": [
    "(Yes, here the stored vector from 20 epochs of training is usually one of the closest to a freshly-inferred vector for the same words. Note the defaults for inference are very abbreviated – just 3 steps starting at a high alpha – and likely need tuning for other applications.)"
   ]
  },
  {
   "cell_type": "markdown",
   "metadata": {},
   "source": [
    "### Do close documents seem more related than distant ones?"
   ]
  },
  {
   "cell_type": "code",
   "execution_count": 12,
   "metadata": {
    "collapsed": false
   },
   "outputs": [
    {
     "name": "stdout",
     "output_type": "stream",
     "text": [
      "TARGET (69798): «otto didn't reinvent himself with 7 zwerge and its possible to see this in every second of this movie . if you saw a lot of the old stuff by otto waalkes there is not much new to explore . but the film isn't bad at all . its only old fashioned . otto plays himself as usual even if he tries to act as a character called bubi and his parents . the jokes are funny as they were when otto told them the first time and the little new stuff is pretty cool . i like the scene about \" brettspiele \" very much . if you didn't watch a otto movie before you can add up to 2 points to my vote .»\n",
      "\n",
      "SIMILAR/DISSIMILAR DOCS PER MODEL Doc2Vec(dm/m,d100,n5,w10,mc2,t8):\n",
      "\n",
      "MOST (222206, 0.6895376443862915): «i s   o n e   b i g   e x c u s e   t o   p l a y   o n e   l e w d   s c e n e   a f t e r   a n o t h e r   .»\n",
      "\n",
      "MEDIAN (242013, 0.3773016333580017): «S i t t i n g   i n   t h e   t h i r d   r o w   o f   t h e   I M A X   c i n e m a   a t   S y d n e y   ' s   D a r l i n g   H a r b o u r   ,   b u t   I   s o m e t i m e s   f e l t   a s   t h o u g h   I   w a s   i n   t h e   t i n y   t w o   s e a t e r   p l a n e   t h a t   c a r r i e d   t h e   g i a n t   c a m e r a   a r o u n d   A u s t r a l i a   ,   s w e e p i n g   a n d   g l i d i n g   ,   b a n k i n g»\n",
      "\n",
      "LEAST (249573, -0.5368477702140808): «B r e n t»\n",
      "\n"
     ]
    }
   ],
   "source": [
    "import random\n",
    "\n",
    "doc_id = np.random.randint(simple_models[0].docvecs.count)  # pick random doc, re-run cell for more examples\n",
    "model = random.choice(simple_models)  # and a random model\n",
    "sims = model.docvecs.most_similar(doc_id, topn=model.docvecs.count)  # get *all* similar documents\n",
    "print(u'TARGET (%d): «%s»\\n' % (doc_id, ' '.join(alldocs[doc_id].words)))\n",
    "print(u'SIMILAR/DISSIMILAR DOCS PER MODEL %s:\\n' % model)\n",
    "for label, index in [('MOST', 0), ('MEDIAN', len(sims)//2), ('LEAST', len(sims) - 1)]:\n",
    "    print(u'%s %s: «%s»\\n' % (label, sims[index], ' '.join(alldocs[sims[index][0]].words)))\n"
   ]
  },
  {
   "cell_type": "markdown",
   "metadata": {},
   "source": [
    "(Somewhat, in terms of reviewer tone, movie genre, etc... the MOST cosine-similar docs usually seem more like the TARGET than the MEDIAN or LEAST.)"
   ]
  },
  {
   "cell_type": "markdown",
   "metadata": {},
   "source": [
    "### Do the word vectors show useful similarities?"
   ]
  },
  {
   "cell_type": "code",
   "execution_count": 13,
   "metadata": {
    "collapsed": false
   },
   "outputs": [],
   "source": [
    "word_models = simple_models[:]"
   ]
  },
  {
   "cell_type": "code",
   "execution_count": 14,
   "metadata": {
    "collapsed": false
   },
   "outputs": [
    {
     "name": "stdout",
     "output_type": "stream",
     "text": [
      "most similar words for 'ills' (35 occurences)\n"
     ]
    },
    {
     "data": {
      "text/html": [
       "<table><tr><th>Doc2Vec(dm/c,d100,n5,w5,mc2,t8)</th><th>Doc2Vec(dbow,d100,n5,mc2,t8)</th><th>Doc2Vec(dm/m,d100,n5,w10,mc2,t8)</th></tr><tr><td>[(u'hardships', 0.6400898098945618),<br>\n",
       "(u'fallacies', 0.6378082633018494),<br>\n",
       "(u'ailments', 0.6322049498558044),<br>\n",
       "(u'deviances', 0.6320829391479492),<br>\n",
       "(u'inequality', 0.61757493019104),<br>\n",
       "(u'iraqis', 0.6170927882194519),<br>\n",
       "(u'diseases', 0.6105661392211914),<br>\n",
       "(u'mindsets', 0.5959157943725586),<br>\n",
       "(u'stupidities', 0.5941486358642578),<br>\n",
       "(u'failings', 0.5938085913658142),<br>\n",
       "(u'realities', 0.591752290725708),<br>\n",
       "(u'hang-ups', 0.5889593958854675),<br>\n",
       "(u'implausibilities', 0.5826704502105713),<br>\n",
       "(u'glitches', 0.5814136266708374),<br>\n",
       "(u'falsehoods', 0.5806069374084473),<br>\n",
       "(u'traumas', 0.5760481953620911),<br>\n",
       "(u'omissions', 0.5734907388687134),<br>\n",
       "(u'responsibilities', 0.5712788105010986),<br>\n",
       "(u'hangings', 0.5684214234352112),<br>\n",
       "(u'crises', 0.5673970580101013)]</td><td>[(u'philmore', 0.42131251096725464),<br>\n",
       "(u\"zenda'\", 0.38584065437316895),<br>\n",
       "(u'paragons', 0.3856133222579956),<br>\n",
       "(u'rabbey', 0.3830532729625702),<br>\n",
       "(u'immortal', 0.37357664108276367),<br>\n",
       "(u'kes', 0.37335431575775146),<br>\n",
       "(u'nit-picky', 0.3706326186656952),<br>\n",
       "(u'nodes', 0.3703456223011017),<br>\n",
       "(u'high-minded', 0.36705607175827026),<br>\n",
       "(u'crannies', 0.36643216013908386),<br>\n",
       "(u\"smg's\", 0.36385059356689453),<br>\n",
       "(u'redwood', 0.3575144410133362),<br>\n",
       "(u'coogan', 0.3573181927204132),<br>\n",
       "(u'terminators', 0.35560423135757446),<br>\n",
       "(u'disney-ish', 0.3546965718269348),<br>\n",
       "(u'klezmer', 0.35133272409439087),<br>\n",
       "(u\"'because\", 0.3511649966239929),<br>\n",
       "(u'overlapping', 0.3506711721420288),<br>\n",
       "(u'documentry', 0.3498956561088562),<br>\n",
       "(u'discovers', 0.349788635969162)]</td><td>[(u'dishonesty', 0.7487739324569702),<br>\n",
       "(u'inequities', 0.7143405079841614),<br>\n",
       "(u'injustices', 0.7108655571937561),<br>\n",
       "(u'ideologies', 0.7092680335044861),<br>\n",
       "(u'inequality', 0.702351450920105),<br>\n",
       "(u'hierarchy', 0.7007982134819031),<br>\n",
       "(u'hypocrisy', 0.6966222524642944),<br>\n",
       "(u'sects', 0.695088267326355),<br>\n",
       "(u'norms', 0.6943344473838806),<br>\n",
       "(u'institutions', 0.688312292098999),<br>\n",
       "(u'validity', 0.6834803819656372),<br>\n",
       "(u'pressures', 0.6832866668701172),<br>\n",
       "(u'strata', 0.6818838119506836),<br>\n",
       "(u'commercialization', 0.6782715916633606),<br>\n",
       "(u'xenophobia', 0.6746642589569092),<br>\n",
       "(u'policies', 0.670558512210846),<br>\n",
       "(u'hypocrisies', 0.669660747051239),<br>\n",
       "(u'prejudices', 0.6685279607772827),<br>\n",
       "(u'harshness', 0.6667979955673218),<br>\n",
       "(u'frailties', 0.6664038896560669)]</td></tr></table>"
      ],
      "text/plain": [
       "<IPython.core.display.HTML object>"
      ]
     },
     "execution_count": 14,
     "metadata": {},
     "output_type": "execute_result"
    }
   ],
   "source": [
    "import random\n",
    "from IPython.display import HTML\n",
    "# pick a random word with a suitable number of occurences\n",
    "while True:\n",
    "    word = random.choice(word_models[0].index2word)\n",
    "    if word_models[0].vocab[word].count > 10:\n",
    "        break\n",
    "# or uncomment below line, to just pick a word from the relevant domain:\n",
    "#word = 'comedy/drama'\n",
    "similars_per_model = [str(model.most_similar(word, topn=20)).replace('), ','),<br>\\n') for model in word_models]\n",
    "similar_table = (\"<table><tr><th>\" +\n",
    "    \"</th><th>\".join([str(model) for model in word_models]) + \n",
    "    \"</th></tr><tr><td>\" +\n",
    "    \"</td><td>\".join(similars_per_model) +\n",
    "    \"</td></tr></table>\")\n",
    "print(\"most similar words for '%s' (%d occurences)\" % (word, simple_models[0].vocab[word].count))\n",
    "HTML(similar_table)"
   ]
  },
  {
   "cell_type": "markdown",
   "metadata": {},
   "source": [
    "Do the DBOW words look meaningless? That's because the gensim DBOW model doesn't train word vectors – they remain at their random initialized values – unless you ask with the `dbow_words=1` initialization parameter. Concurrent word-training slows DBOW mode significantly, and offers little improvement (and sometimes a little worsening) of the error rate on this IMDB sentiment-prediction task. \n",
    "\n",
    "Words from DM models tend to show meaningfully similar words when there are many examples in the training data (as with 'plot' or 'actor'). (All DM modes inherently involve word vector training concurrent with doc vector training.)"
   ]
  },
  {
   "cell_type": "markdown",
   "metadata": {},
   "source": [
    "### Are the word vectors from this dataset any good at analogies?"
   ]
  },
  {
   "cell_type": "code",
   "execution_count": 15,
   "metadata": {
    "collapsed": false
   },
   "outputs": [
    {
     "ename": "IOError",
     "evalue": "[Errno 2] No such file or directory: 'questions-words.txt'",
     "output_type": "error",
     "traceback": [
      "\u001b[0;31m---------------------------------------------------------------------------\u001b[0m",
      "\u001b[0;31mIOError\u001b[0m                                   Traceback (most recent call last)",
      "\u001b[0;32m<ipython-input-15-20b2c2b965f0>\u001b[0m in \u001b[0;36m<module>\u001b[0;34m()\u001b[0m\n\u001b[1;32m      4\u001b[0m \u001b[0;31m# note: this takes many minutes\u001b[0m\u001b[0;34m\u001b[0m\u001b[0;34m\u001b[0m\u001b[0m\n\u001b[1;32m      5\u001b[0m \u001b[0;32mfor\u001b[0m \u001b[0mmodel\u001b[0m \u001b[0;32min\u001b[0m \u001b[0mword_models\u001b[0m\u001b[0;34m:\u001b[0m\u001b[0;34m\u001b[0m\u001b[0m\n\u001b[0;32m----> 6\u001b[0;31m     \u001b[0msections\u001b[0m \u001b[0;34m=\u001b[0m \u001b[0mmodel\u001b[0m\u001b[0;34m.\u001b[0m\u001b[0maccuracy\u001b[0m\u001b[0;34m(\u001b[0m\u001b[0;34m'questions-words.txt'\u001b[0m\u001b[0;34m)\u001b[0m\u001b[0;34m\u001b[0m\u001b[0m\n\u001b[0m\u001b[1;32m      7\u001b[0m     \u001b[0mcorrect\u001b[0m\u001b[0;34m,\u001b[0m \u001b[0mincorrect\u001b[0m \u001b[0;34m=\u001b[0m \u001b[0mlen\u001b[0m\u001b[0;34m(\u001b[0m\u001b[0msections\u001b[0m\u001b[0;34m[\u001b[0m\u001b[0;34m-\u001b[0m\u001b[0;36m1\u001b[0m\u001b[0;34m]\u001b[0m\u001b[0;34m[\u001b[0m\u001b[0;34m'correct'\u001b[0m\u001b[0;34m]\u001b[0m\u001b[0;34m)\u001b[0m\u001b[0;34m,\u001b[0m \u001b[0mlen\u001b[0m\u001b[0;34m(\u001b[0m\u001b[0msections\u001b[0m\u001b[0;34m[\u001b[0m\u001b[0;34m-\u001b[0m\u001b[0;36m1\u001b[0m\u001b[0;34m]\u001b[0m\u001b[0;34m[\u001b[0m\u001b[0;34m'incorrect'\u001b[0m\u001b[0;34m]\u001b[0m\u001b[0;34m)\u001b[0m\u001b[0;34m\u001b[0m\u001b[0m\n\u001b[1;32m      8\u001b[0m     \u001b[0;32mprint\u001b[0m\u001b[0;34m(\u001b[0m\u001b[0;34m'%s: %0.2f%% correct (%d of %d)'\u001b[0m \u001b[0;34m%\u001b[0m \u001b[0;34m(\u001b[0m\u001b[0mmodel\u001b[0m\u001b[0;34m,\u001b[0m \u001b[0mfloat\u001b[0m\u001b[0;34m(\u001b[0m\u001b[0mcorrect\u001b[0m\u001b[0;34m*\u001b[0m\u001b[0;36m100\u001b[0m\u001b[0;34m)\u001b[0m\u001b[0;34m/\u001b[0m\u001b[0;34m(\u001b[0m\u001b[0mcorrect\u001b[0m\u001b[0;34m+\u001b[0m\u001b[0mincorrect\u001b[0m\u001b[0;34m)\u001b[0m\u001b[0;34m,\u001b[0m \u001b[0mcorrect\u001b[0m\u001b[0;34m,\u001b[0m \u001b[0mcorrect\u001b[0m\u001b[0;34m+\u001b[0m\u001b[0mincorrect\u001b[0m\u001b[0;34m)\u001b[0m\u001b[0;34m)\u001b[0m\u001b[0;34m\u001b[0m\u001b[0m\n",
      "\u001b[0;32m/Users/Mike/anaconda/lib/python2.7/site-packages/gensim/models/word2vec.pyc\u001b[0m in \u001b[0;36maccuracy\u001b[0;34m(self, questions, restrict_vocab, most_similar)\u001b[0m\n\u001b[1;32m   1364\u001b[0m \u001b[0;34m\u001b[0m\u001b[0m\n\u001b[1;32m   1365\u001b[0m         \u001b[0msections\u001b[0m\u001b[0;34m,\u001b[0m \u001b[0msection\u001b[0m \u001b[0;34m=\u001b[0m \u001b[0;34m[\u001b[0m\u001b[0;34m]\u001b[0m\u001b[0;34m,\u001b[0m \u001b[0mNone\u001b[0m\u001b[0;34m\u001b[0m\u001b[0m\n\u001b[0;32m-> 1366\u001b[0;31m         \u001b[0;32mfor\u001b[0m \u001b[0mline_no\u001b[0m\u001b[0;34m,\u001b[0m \u001b[0mline\u001b[0m \u001b[0;32min\u001b[0m \u001b[0menumerate\u001b[0m\u001b[0;34m(\u001b[0m\u001b[0mutils\u001b[0m\u001b[0;34m.\u001b[0m\u001b[0msmart_open\u001b[0m\u001b[0;34m(\u001b[0m\u001b[0mquestions\u001b[0m\u001b[0;34m)\u001b[0m\u001b[0;34m)\u001b[0m\u001b[0;34m:\u001b[0m\u001b[0;34m\u001b[0m\u001b[0m\n\u001b[0m\u001b[1;32m   1367\u001b[0m             \u001b[0;31m# TODO: use level3 BLAS (=evaluate multiple questions at once), for speed\u001b[0m\u001b[0;34m\u001b[0m\u001b[0;34m\u001b[0m\u001b[0m\n\u001b[1;32m   1368\u001b[0m             \u001b[0mline\u001b[0m \u001b[0;34m=\u001b[0m \u001b[0mutils\u001b[0m\u001b[0;34m.\u001b[0m\u001b[0mto_unicode\u001b[0m\u001b[0;34m(\u001b[0m\u001b[0mline\u001b[0m\u001b[0;34m)\u001b[0m\u001b[0;34m\u001b[0m\u001b[0m\n",
      "\u001b[0;32m/Users/Mike/anaconda/lib/python2.7/site-packages/smart_open/smart_open_lib.pyc\u001b[0m in \u001b[0;36msmart_open\u001b[0;34m(uri, mode)\u001b[0m\n\u001b[1;32m     87\u001b[0m         \u001b[0;31m# local files -- both read & write supported\u001b[0m\u001b[0;34m\u001b[0m\u001b[0;34m\u001b[0m\u001b[0m\n\u001b[1;32m     88\u001b[0m         \u001b[0;31m# compression, if any, is determined by the filename extension (.gz, .bz2)\u001b[0m\u001b[0;34m\u001b[0m\u001b[0;34m\u001b[0m\u001b[0m\n\u001b[0;32m---> 89\u001b[0;31m         \u001b[0;32mreturn\u001b[0m \u001b[0mfile_smart_open\u001b[0m\u001b[0;34m(\u001b[0m\u001b[0mparsed_uri\u001b[0m\u001b[0;34m.\u001b[0m\u001b[0muri_path\u001b[0m\u001b[0;34m,\u001b[0m \u001b[0mmode\u001b[0m\u001b[0;34m)\u001b[0m\u001b[0;34m\u001b[0m\u001b[0m\n\u001b[0m\u001b[1;32m     90\u001b[0m \u001b[0;34m\u001b[0m\u001b[0m\n\u001b[1;32m     91\u001b[0m     \u001b[0;32mif\u001b[0m \u001b[0mmode\u001b[0m \u001b[0;32min\u001b[0m \u001b[0;34m(\u001b[0m\u001b[0;34m'r'\u001b[0m\u001b[0;34m,\u001b[0m \u001b[0;34m'rb'\u001b[0m\u001b[0;34m)\u001b[0m\u001b[0;34m:\u001b[0m\u001b[0;34m\u001b[0m\u001b[0m\n",
      "\u001b[0;32m/Users/Mike/anaconda/lib/python2.7/site-packages/smart_open/smart_open_lib.pyc\u001b[0m in \u001b[0;36mfile_smart_open\u001b[0;34m(fname, mode)\u001b[0m\n\u001b[1;32m    299\u001b[0m         \u001b[0;32mreturn\u001b[0m \u001b[0mmake_closing\u001b[0m\u001b[0;34m(\u001b[0m\u001b[0mGzipFile\u001b[0m\u001b[0;34m)\u001b[0m\u001b[0;34m(\u001b[0m\u001b[0mfname\u001b[0m\u001b[0;34m,\u001b[0m \u001b[0mmode\u001b[0m\u001b[0;34m)\u001b[0m\u001b[0;34m\u001b[0m\u001b[0m\n\u001b[1;32m    300\u001b[0m \u001b[0;34m\u001b[0m\u001b[0m\n\u001b[0;32m--> 301\u001b[0;31m     \u001b[0;32mreturn\u001b[0m \u001b[0mopen\u001b[0m\u001b[0;34m(\u001b[0m\u001b[0mfname\u001b[0m\u001b[0;34m,\u001b[0m \u001b[0mmode\u001b[0m\u001b[0;34m)\u001b[0m\u001b[0;34m\u001b[0m\u001b[0m\n\u001b[0m\u001b[1;32m    302\u001b[0m \u001b[0;34m\u001b[0m\u001b[0m\n\u001b[1;32m    303\u001b[0m \u001b[0;34m\u001b[0m\u001b[0m\n",
      "\u001b[0;31mIOError\u001b[0m: [Errno 2] No such file or directory: 'questions-words.txt'"
     ]
    }
   ],
   "source": [
    "# assuming something like\n",
    "# https://word2vec.googlecode.com/svn/trunk/questions-words.txt \n",
    "# is in local directory\n",
    "# note: this takes many minutes\n",
    "for model in word_models:\n",
    "    sections = model.accuracy('questions-words.txt')\n",
    "    correct, incorrect = len(sections[-1]['correct']), len(sections[-1]['incorrect'])\n",
    "    print('%s: %0.2f%% correct (%d of %d)' % (model, float(correct*100)/(correct+incorrect), correct, correct+incorrect))"
   ]
  },
  {
   "cell_type": "markdown",
   "metadata": {},
   "source": [
    "Even though this is a tiny, domain-specific dataset, it shows some meager capability on the general word analogies – at least for the DM/concat and DM/mean models which actually train word vectors. (The untrained random-initialized words of the DBOW model of course fail miserably.)"
   ]
  },
  {
   "cell_type": "markdown",
   "metadata": {},
   "source": [
    "## Slop"
   ]
  },
  {
   "cell_type": "code",
   "execution_count": null,
   "metadata": {
    "collapsed": false
   },
   "outputs": [],
   "source": [
    "This cell left intentionally erroneous. "
   ]
  },
  {
   "cell_type": "markdown",
   "metadata": {},
   "source": [
    "To mix the Google dataset (if locally available) into the word tests..."
   ]
  },
  {
   "cell_type": "code",
   "execution_count": null,
   "metadata": {
    "collapsed": false
   },
   "outputs": [],
   "source": [
    "from gensim.models import Word2Vec\n",
    "w2v_g100b = Word2Vec.load_word2vec_format('GoogleNews-vectors-negative300.bin.gz', binary=True)\n",
    "w2v_g100b.compact_name = 'w2v_g100b'\n",
    "word_models.append(w2v_g100b)"
   ]
  },
  {
   "cell_type": "markdown",
   "metadata": {},
   "source": [
    "To get copious logging output from above steps..."
   ]
  },
  {
   "cell_type": "code",
   "execution_count": null,
   "metadata": {
    "collapsed": false
   },
   "outputs": [],
   "source": [
    "import logging\n",
    "logging.basicConfig(format='%(asctime)s : %(levelname)s : %(message)s', level=logging.INFO)\n",
    "rootLogger = logging.getLogger()\n",
    "rootLogger.setLevel(logging.INFO)"
   ]
  },
  {
   "cell_type": "markdown",
   "metadata": {},
   "source": [
    "To auto-reload python code while developing..."
   ]
  },
  {
   "cell_type": "code",
   "execution_count": null,
   "metadata": {
    "collapsed": false
   },
   "outputs": [],
   "source": [
    "%load_ext autoreload\n",
    "%autoreload 2"
   ]
  }
 ],
 "metadata": {
  "kernelspec": {
   "display_name": "Python 2",
   "language": "python",
   "name": "python2"
  },
  "language_info": {
   "codemirror_mode": {
    "name": "ipython",
    "version": 2
   },
   "file_extension": ".py",
   "mimetype": "text/x-python",
   "name": "python",
   "nbconvert_exporter": "python",
   "pygments_lexer": "ipython2",
   "version": "2.7.10"
  }
 },
 "nbformat": 4,
 "nbformat_minor": 0
}
